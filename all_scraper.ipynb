from bs4 import BeautifulSoup
import re
import requests

#journals: ['17551', ]

for year in range (1949, 2017):
    l = []
    for page in range(1,6):
        response = requests.get(f"https://libgen.is/scimag/?journal=4811&year={year}&page={page}")
        soup = BeautifulSoup(response.text, 'lxml')
        # regex pattern for the tel nr
        doi_1 = re.compile(r'(10[.][0-9]{4,}[^\s"\/<>]*\/[^\s"<>]+)')
        for s in soup.find_all(string=doi_1):
            #print(doi_1.search(s).group())   # print the match
            b = doi_1.search(s).group()
            l.append(str(b))
    with open (f"comparative_literature/comparative-literature_{year}.txt", 'w') as fo:
        doi = 'DOI:'
        for d in l:
            fo.write(str(d) + '\n')
    print(f'{year} is done')
