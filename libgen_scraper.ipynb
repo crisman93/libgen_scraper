{
 "cells": [
  {
   "cell_type": "code",
   "execution_count": 1,
   "id": "6cd5ac10-a1b3-4cd4-a2fb-be65138903be",
   "metadata": {},
   "outputs": [],
   "source": [
    "import time\n",
    "from io import StringIO\n",
    "import sys\n",
    "from scidownl import scihub_download\n",
    "import os"
   ]
  },
  {
   "cell_type": "code",
   "execution_count": null,
   "id": "3292a664-0ec0-44a4-bc75-4d266e453963",
   "metadata": {
    "tags": []
   },
   "outputs": [],
   "source": [
    "from bs4 import BeautifulSoup\n",
    "import re\n",
    "import requests\n",
    "\n",
    "#journals: ['17551', ]\n",
    "\n",
    "for year in range (1987, 2018):\n",
    "    l = []\n",
    "    for page in range(1,15):\n",
    "        response = requests.get(f\"https://libgen.is/scimag/?journal=4811&year={year}&page={page}\")\n",
    "        soup = BeautifulSoup(response.text, 'lxml')\n",
    "        # regex pattern for the tel nr\n",
    "        doi_1 = re.compile(r'DOI: \\d\\d\\W\\d\\d\\d\\d\\W\\d\\d\\d\\d\\d\\d\\d\\d\\W\\d\\d\\d\\d\\d\\d\\d')\n",
    "        doi_2 = re.compile(r'DOI: \\d\\d\\W\\d\\d\\d\\d\\W\\d\\d\\d\\d\\d\\d\\d\\d\\W\\d\\d\\d\\d\\W\\d\\d\\d')\n",
    "        doi_pattern = re.compile(r'DOI: \\d\\d\\W\\d\\d\\d\\d\\W\\d\\d\\d\\d\\d\\d')\n",
    "        doi_pattern2 = re.compile(r'DOI: \\d\\d\\W\\d\\d\\d\\d\\W\\d\\d\\d\\d\\d\\d\\d')\n",
    "        another_pattern = re.compile(r'DOI: \\d\\d\\W\\d\\d\\d\\d\\W\\w\\w\\W\\d\\d\\W\\d\\W\\d\\d\\d\\d\\d\\d')\n",
    "        modern_pattern = re.compile(r'\\d\\d\\d\\d\\d\\d\\d\\W\\d\\d\\d\\d\\d\\d\\d\\d\\d\\d\\d\\d')\n",
    "        # look for all string in the soup which satisfy the pattern\n",
    "        for s in soup.find_all(string=doi_1):\n",
    "            #print(doi_1.search(s).group())   # print the match\n",
    "            b = doi_1.search(s).group()\n",
    "            l.append(str(b))\n",
    "        for s in soup.find_all(string=doi_2):\n",
    "            #print(doi_2.search(s).group())   # print the match\n",
    "            k = doi_2.search(s).group()\n",
    "            if k not in l:\n",
    "                l.append(str(k))\n",
    "        for s in soup.find_all(string=doi_pattern):\n",
    "            #print(doi_pattern.search(s).group())   # print the match\n",
    "            done = doi_pattern.search(s).group()\n",
    "            if done not in l:\n",
    "                l.append(str(done))\n",
    "        for s in soup.find_all(string=doi_pattern2):\n",
    "            #print(doi_pattern.search(s).group())   # print the match\n",
    "            done = doi_pattern2.search(s).group()\n",
    "            if done not in l:\n",
    "                l.append(str(done))\n",
    "        for s in soup.find_all(string=another_pattern):\n",
    "            #print(another_pattern.search(s).group())   # print the match\n",
    "            other = another_pattern.search(s).group()\n",
    "            l.append(str(other))\n",
    "            if other not in l:\n",
    "                l.append(str(other))\n",
    "        for s in soup.find_all(string=modern_pattern):\n",
    "            #print(modern_pattern.search(s).group())   # print the match\n",
    "            last = modern_pattern.search(s).group()\n",
    "            if last not in l:\n",
    "                l.append(str(last))\n",
    "    with open (f\"test/{year}.txt\", 'w') as fo:\n",
    "        for d in l:\n",
    "            fo.write(str(d) + '\\n')\n",
    "            #print(f\"{year} is done\")\n",
    "            \n",
    "folder = os.listdir('test')\n",
    "#folder.remove('.ipynb_checkpoints')\n",
    "#line = line.replace('DOI:', '')\n",
    "for file in folder:\n",
    "    f = open('test/' + file, 'r+')\n",
    "    file_contents = f.read()\n",
    "    file_contents = file_contents.replace('DOI:', '')\n",
    "    file_contents = file_contents.replace(' ', '')\n",
    "    f.close()\n",
    "    f = open('test/' + file, 'w+')\n",
    "    f.write(file_contents)\n",
    "    f.close()\n",
    "    \n",
    "    \n"
   ]
  },
  {
   "cell_type": "code",
   "execution_count": null,
   "id": "67eecc4f-0c97-43aa-8faa-ebdad5846bdc",
   "metadata": {},
   "outputs": [],
   "source": [
    "folder = os.listdir('test')\n",
    "#folder.remove('.ipynb_checkpoints')\n",
    "#line = line.replace('DOI:', '')\n",
    "for file in folder:\n",
    "    f = open('test/' + file, 'r+')\n",
    "    file_contents = f.read()\n",
    "    file_contents = file_contents.replace('DOI:', '')\n",
    "    file_contents = file_contents.replace(' ', '')\n",
    "    f.close()\n",
    "    f = open('test/' + file, 'w+')\n",
    "    f.write(file_contents)\n",
    "    f.close()"
   ]
  },
  {
   "cell_type": "code",
   "execution_count": 7,
   "id": "cb5e89e4-ad71-4e02-8a4d-bcdee3f1f95e",
   "metadata": {},
   "outputs": [
    {
     "name": "stderr",
     "output_type": "stream",
     "text": [
      "[INFO] | 2022/06/29 16:08:03 | Choose scihub url [0]: https://sci-hub.ru\n",
      "[INFO] | 2022/06/29 16:08:04 | <- Request: scihub_url=https://sci-hub.ru, source=DoiSource[type=doi, id=doi.org/10.1215/00104124-2009-021]\n",
      "[INFO] | 2022/06/29 16:08:04 | -> Response: status_code=200, content_length=7027\n",
      "[INFO] | 2022/06/29 16:08:04 | * Extracted information: {'url': 'https://zero.sci-hub.ru/1144/17495fe3b236d8ef20e74e91e52020bb/pollack2009.pdf', 'title': 'Latin America Translated (Again)  Roberto Bolano’s The Savage Detectives in the United States. Comparative Literature, 61(3), 346–365'}\n"
     ]
    },
    {
     "name": "stdout",
     "output_type": "stream",
     "text": [
      " 11% [........                                                                  ]  188416 / 1702706"
     ]
    },
    {
     "name": "stderr",
     "output_type": "stream",
     "text": [
      "[INFO] | 2022/06/29 16:08:05 | ↓ Successfully download the url to: test/2009/article0.pdf\n"
     ]
    },
    {
     "name": "stdout",
     "output_type": "stream",
     "text": [
      "100% [..........................................................................] 1702706 / 1702706\n"
     ]
    },
    {
     "name": "stderr",
     "output_type": "stream",
     "text": [
      "[INFO] | 2022/06/29 16:08:05 | Choose scihub url [0]: https://sci-hub.ru\n",
      "[INFO] | 2022/06/29 16:08:05 | <- Request: scihub_url=https://sci-hub.ru, source=DoiSource[type=doi, id=doi.org/10.1215/00104124-2009-025]\n",
      "[INFO] | 2022/06/29 16:08:05 | -> Response: status_code=200, content_length=6971\n",
      "[INFO] | 2022/06/29 16:08:05 | * Extracted information: {'url': 'https://moscow.sci-hub.ru/2746/5cf33854c2e31a40f7e26d176fc6950e/bermann2009.pdf', 'title': 'Working in the And Zone  Comparative Literature and Translation. Comparative Literature, 61(4), 432–446'}\n"
     ]
    },
    {
     "name": "stdout",
     "output_type": "stream",
     "text": [
      " 27% [.....................                                                       ] 163840 / 586081"
     ]
    },
    {
     "name": "stderr",
     "output_type": "stream",
     "text": [
      "[INFO] | 2022/06/29 16:08:06 | ↓ Successfully download the url to: test/2009/article1.pdf\n"
     ]
    },
    {
     "name": "stdout",
     "output_type": "stream",
     "text": [
      "100% [............................................................................] 586081 / 586081\n"
     ]
    },
    {
     "name": "stderr",
     "output_type": "stream",
     "text": [
      "[INFO] | 2022/06/29 16:08:06 | Choose scihub url [0]: https://sci-hub.ru\n",
      "[INFO] | 2022/06/29 16:08:06 | <- Request: scihub_url=https://sci-hub.ru, source=DoiSource[type=doi, id=doi.org/10.1215/00104124-2009-017]\n",
      "[INFO] | 2022/06/29 16:08:06 | -> Response: status_code=200, content_length=7134\n",
      "[INFO] | 2022/06/29 16:08:06 | * Extracted information: {'url': 'https://moscow.sci-hub.ru/3664/5429d1aa645bec0e23c16a19b71816e8/malcuzynski2009.pdf', 'title': 'The (Neo)Baroque Effect  A Critical Inquiry into the Transformation and Application of a Conceptual Field to Comparative American Studies. Comparative Literature, 61(3), 295–315'}\n"
     ]
    },
    {
     "name": "stdout",
     "output_type": "stream",
     "text": [
      " 82% [..............................................................              ] 188416 / 227369"
     ]
    },
    {
     "name": "stderr",
     "output_type": "stream",
     "text": [
      "[INFO] | 2022/06/29 16:08:07 | ↓ Successfully download the url to: test/2009/article2.pdf\n",
      "[INFO] | 2022/06/29 16:08:07 | Choose scihub url [0]: https://sci-hub.ru\n"
     ]
    },
    {
     "name": "stdout",
     "output_type": "stream",
     "text": [
      "100% [............................................................................] 227369 / 227369\n"
     ]
    },
    {
     "name": "stderr",
     "output_type": "stream",
     "text": [
      "[INFO] | 2022/06/29 16:08:08 | <- Request: scihub_url=https://sci-hub.ru, source=DoiSource[type=doi, id=doi.org/10.1215/00104124-2009-012]\n",
      "[INFO] | 2022/06/29 16:08:08 | -> Response: status_code=200, content_length=6988\n",
      "[INFO] | 2022/06/29 16:08:08 | * Extracted information: {'url': 'https://zero.sci-hub.ru/3664/ee7dd0f9748f997187ef8360f5fd19a3/lopez2009.pdf', 'title': 'Hugo Meltzl and That Dangerous American Supplement; or, A Tale of Two 1877s. Comparative Literature, 61(3), 220–230'}\n"
     ]
    },
    {
     "name": "stdout",
     "output_type": "stream",
     "text": [
      "100% [............................................................................] 129547 / 129547\n"
     ]
    },
    {
     "name": "stderr",
     "output_type": "stream",
     "text": [
      "[INFO] | 2022/06/29 16:08:09 | ↓ Successfully download the url to: test/2009/article3.pdf\n",
      "[INFO] | 2022/06/29 16:08:09 | Choose scihub url [0]: https://sci-hub.ru\n",
      "[INFO] | 2022/06/29 16:08:09 | <- Request: scihub_url=https://sci-hub.ru, source=DoiSource[type=doi, id=doi.org/10.1215/00104124-2009-009]\n",
      "[INFO] | 2022/06/29 16:08:09 | -> Response: status_code=200, content_length=6983\n",
      "[INFO] | 2022/06/29 16:08:09 | * Extracted information: {'url': 'https://moscow.sci-hub.ru/3663/8cdc9df49582eec816f3e8cb400796db/brenner2009.pdf', 'title': 'A Multilingual Modernist  Avraham Shlonsky between Hebrew and Yiddish. Comparative Literature, 61(4), 367–387'}\n"
     ]
    },
    {
     "name": "stdout",
     "output_type": "stream",
     "text": [
      " 26% [....................                                                        ] 188416 / 711833"
     ]
    },
    {
     "name": "stderr",
     "output_type": "stream",
     "text": [
      "[INFO] | 2022/06/29 16:08:10 | ↓ Successfully download the url to: test/2009/article4.pdf\n",
      "[INFO] | 2022/06/29 16:08:10 | Choose scihub url [0]: https://sci-hub.ru\n"
     ]
    },
    {
     "name": "stdout",
     "output_type": "stream",
     "text": [
      "100% [............................................................................] 711833 / 711833\n"
     ]
    },
    {
     "name": "stderr",
     "output_type": "stream",
     "text": [
      "[INFO] | 2022/06/29 16:08:10 | <- Request: scihub_url=https://sci-hub.ru, source=DoiSource[type=doi, id=doi.org/10.1215/00104124-2009-014]\n",
      "[INFO] | 2022/06/29 16:08:10 | -> Response: status_code=200, content_length=7003\n",
      "[INFO] | 2022/06/29 16:08:10 | * Extracted information: {'url': 'https://moscow.sci-hub.ru/3667/d227f7999df9be3e90ed1d48caead304/winks2009.pdf', 'title': 'A Great Bridge that Cannot Be Seen  Caribbean Literature as Comparative Literature. Comparative Literature, 61(3), 244–255'}\n",
      "[INFO] | 2022/06/29 16:08:11 | ↓ Successfully download the url to: test/2009/article5.pdf\n",
      "[INFO] | 2022/06/29 16:08:11 | Choose scihub url [0]: https://sci-hub.ru\n"
     ]
    },
    {
     "name": "stdout",
     "output_type": "stream",
     "text": [
      "100% [............................................................................] 135210 / 135210\n"
     ]
    },
    {
     "name": "stderr",
     "output_type": "stream",
     "text": [
      "[INFO] | 2022/06/29 16:08:11 | <- Request: scihub_url=https://sci-hub.ru, source=DoiSource[type=doi, id=doi.org/10.1215/00104124-2009-023]\n",
      "[INFO] | 2022/06/29 16:08:11 | -> Response: status_code=200, content_length=7074\n",
      "[INFO] | 2022/06/29 16:08:11 | * Extracted information: {'url': 'https://zero.sci-hub.ru/3790/2c1ea12fb77abf4223165e72acdf65f9/coffman2009.pdf', 'title': '“Swann’s Way. Basic Training”  Interpretation in James Merrill’s Late Collections and A la recherche du temps perdu. Comparative Literature, 61(4), 400–415'}\n"
     ]
    },
    {
     "name": "stdout",
     "output_type": "stream",
     "text": [
      " 26% [...................                                                         ] 155648 / 593730"
     ]
    },
    {
     "name": "stderr",
     "output_type": "stream",
     "text": [
      "[INFO] | 2022/06/29 16:08:12 | ↓ Successfully download the url to: test/2009/article6.pdf\n",
      "[INFO] | 2022/06/29 16:08:12 | Choose scihub url [0]: https://sci-hub.ru\n"
     ]
    },
    {
     "name": "stdout",
     "output_type": "stream",
     "text": [
      "100% [............................................................................] 593730 / 593730\n"
     ]
    },
    {
     "name": "stderr",
     "output_type": "stream",
     "text": [
      "[INFO] | 2022/06/29 16:08:12 | <- Request: scihub_url=https://sci-hub.ru, source=DoiSource[type=doi, id=doi.org/10.1215/00104124-2009-018]\n",
      "[INFO] | 2022/06/29 16:08:12 | -> Response: status_code=200, content_length=6986\n",
      "[INFO] | 2022/06/29 16:08:12 | * Extracted information: {'url': 'https://zero.sci-hub.ru/3792/acb6701f03f3467c82863b73ac22d6e8/brown2009.pdf', 'title': 'Cyborgs, Post-Punk, and the Neobaroque  Ricardo Piglia’s La ciudad ausente. Comparative Literature, 61(3), 316–326'}\n"
     ]
    },
    {
     "name": "stdout",
     "output_type": "stream",
     "text": [
      " 31% [......................                                                    ] 1155072 / 3722977"
     ]
    },
    {
     "name": "stderr",
     "output_type": "stream",
     "text": [
      "[INFO] | 2022/06/29 16:08:13 | ↓ Successfully download the url to: test/2009/article7.pdf\n",
      "[INFO] | 2022/06/29 16:08:13 | Choose scihub url [0]: https://sci-hub.ru\n"
     ]
    },
    {
     "name": "stdout",
     "output_type": "stream",
     "text": [
      "100% [..........................................................................] 3722977 / 3722977\n"
     ]
    },
    {
     "name": "stderr",
     "output_type": "stream",
     "text": [
      "[INFO] | 2022/06/29 16:08:13 | <- Request: scihub_url=https://sci-hub.ru, source=DoiSource[type=doi, id=doi.org/10.1215/00104124-2009-020]\n",
      "[INFO] | 2022/06/29 16:08:13 | -> Response: status_code=200, content_length=6957\n",
      "[INFO] | 2022/06/29 16:08:13 | * Extracted information: {'url': 'https://zero.sci-hub.ru/3822/7bea4b8d28d80386a15f713449223709/chanady2009.pdf', 'title': 'The Trans-American Outcast and Figurations of Displacement. Comparative Literature, 61(3), 335–345'}\n",
      "[INFO] | 2022/06/29 16:08:14 | ↓ Successfully download the url to: test/2009/article8.pdf\n",
      "[INFO] | 2022/06/29 16:08:14 | Choose scihub url [0]: https://sci-hub.ru\n"
     ]
    },
    {
     "name": "stdout",
     "output_type": "stream",
     "text": [
      "100% [............................................................................] 122557 / 122557\n"
     ]
    },
    {
     "name": "stderr",
     "output_type": "stream",
     "text": [
      "[INFO] | 2022/06/29 16:08:14 | <- Request: scihub_url=https://sci-hub.ru, source=DoiSource[type=doi, id=doi.org/10.1215/00104124-2009-015]\n",
      "[INFO] | 2022/06/29 16:08:14 | -> Response: status_code=200, content_length=6988\n",
      "[INFO] | 2022/06/29 16:08:14 | * Extracted information: {'url': 'https://moscow.sci-hub.ru/3823/983cfd1726d198c1404f43610fc41bbf/dussel2009.pdf', 'title': '“Being-in-the-World-Hispanically”  A World on the “Border” of Many Worlds. Comparative Literature, 61(3), 256–273'}\n"
     ]
    },
    {
     "name": "stdout",
     "output_type": "stream",
     "text": [
      " 85% [................................................................            ] 188416 / 220601"
     ]
    },
    {
     "ename": "KeyboardInterrupt",
     "evalue": "",
     "output_type": "error",
     "traceback": [
      "\u001b[0;31m---------------------------------------------------------------------------\u001b[0m",
      "\u001b[0;31mKeyboardInterrupt\u001b[0m                         Traceback (most recent call last)",
      "Input \u001b[0;32mIn [7]\u001b[0m, in \u001b[0;36m<module>\u001b[0;34m\u001b[0m\n\u001b[1;32m     24\u001b[0m paper_type \u001b[38;5;241m=\u001b[39m \u001b[38;5;124m\"\u001b[39m\u001b[38;5;124mdoi\u001b[39m\u001b[38;5;124m\"\u001b[39m\n\u001b[1;32m     25\u001b[0m out \u001b[38;5;241m=\u001b[39m (\u001b[38;5;124m\"\u001b[39m\u001b[38;5;124mtest/\u001b[39m\u001b[38;5;124m\"\u001b[39m\u001b[38;5;241m+\u001b[39m newpath \u001b[38;5;241m+\u001b[39m \u001b[38;5;124m'\u001b[39m\u001b[38;5;124m/article\u001b[39m\u001b[38;5;124m'\u001b[39m \u001b[38;5;241m+\u001b[39m \u001b[38;5;28mstr\u001b[39m(i))\n\u001b[0;32m---> 26\u001b[0m \u001b[43mscihub_download\u001b[49m\u001b[43m(\u001b[49m\u001b[43mpaper\u001b[49m\u001b[43m,\u001b[49m\u001b[43m \u001b[49m\u001b[43mpaper_type\u001b[49m\u001b[38;5;241;43m=\u001b[39;49m\u001b[43mpaper_type\u001b[49m\u001b[43m,\u001b[49m\u001b[43m \u001b[49m\u001b[43mout\u001b[49m\u001b[38;5;241;43m=\u001b[39;49m\u001b[43mout\u001b[49m\u001b[43m)\u001b[49m\n\u001b[1;32m     27\u001b[0m i\u001b[38;5;241m+\u001b[39m\u001b[38;5;241m=\u001b[39m\u001b[38;5;241m1\u001b[39m\n\u001b[1;32m     28\u001b[0m x\u001b[38;5;241m+\u001b[39m\u001b[38;5;241m=\u001b[39m\u001b[38;5;241m1\u001b[39m\n",
      "File \u001b[0;32m~/.local/lib/python3.8/site-packages/scidownl/api/scihub.py:29\u001b[0m, in \u001b[0;36mscihub_download\u001b[0;34m(keyword, paper_type, scihub_url, out)\u001b[0m\n\u001b[1;32m      7\u001b[0m \u001b[38;5;28;01mdef\u001b[39;00m \u001b[38;5;21mscihub_download\u001b[39m(\n\u001b[1;32m      8\u001b[0m         keyword: \u001b[38;5;28mstr\u001b[39m,\n\u001b[1;32m      9\u001b[0m         paper_type: \u001b[38;5;28mstr\u001b[39m \u001b[38;5;241m=\u001b[39m \u001b[38;5;124m'\u001b[39m\u001b[38;5;124mdoi\u001b[39m\u001b[38;5;124m'\u001b[39m,\n\u001b[1;32m     10\u001b[0m         scihub_url: \u001b[38;5;28mstr\u001b[39m \u001b[38;5;241m=\u001b[39m \u001b[38;5;28;01mNone\u001b[39;00m,\n\u001b[1;32m     11\u001b[0m         out: \u001b[38;5;28mstr\u001b[39m \u001b[38;5;241m=\u001b[39m \u001b[38;5;28;01mNone\u001b[39;00m\n\u001b[1;32m     12\u001b[0m     ) \u001b[38;5;241m-\u001b[39m\u001b[38;5;241m>\u001b[39m \u001b[38;5;28;01mNone\u001b[39;00m:\n\u001b[1;32m     13\u001b[0m     \u001b[38;5;124;03m\"\"\"Download a paper from SciHub.\u001b[39;00m\n\u001b[1;32m     14\u001b[0m \n\u001b[1;32m     15\u001b[0m \u001b[38;5;124;03m    :param keyword: a DOI or a PMID.\u001b[39;00m\n\u001b[0;32m   (...)\u001b[0m\n\u001b[1;32m     27\u001b[0m \u001b[38;5;124;03m        name of the paper's title.\u001b[39;00m\n\u001b[1;32m     28\u001b[0m \u001b[38;5;124;03m    \"\"\"\u001b[39;00m\n\u001b[0;32m---> 29\u001b[0m     \u001b[38;5;28;01mreturn\u001b[39;00m \u001b[43mScihubTask\u001b[49m\u001b[43m(\u001b[49m\n\u001b[1;32m     30\u001b[0m \u001b[43m        \u001b[49m\u001b[43msource_keyword\u001b[49m\u001b[38;5;241;43m=\u001b[39;49m\u001b[43mkeyword\u001b[49m\u001b[43m,\u001b[49m\n\u001b[1;32m     31\u001b[0m \u001b[43m        \u001b[49m\u001b[43msource_type\u001b[49m\u001b[38;5;241;43m=\u001b[39;49m\u001b[43mpaper_type\u001b[49m\u001b[43m,\u001b[49m\n\u001b[1;32m     32\u001b[0m \u001b[43m        \u001b[49m\u001b[43mscihub_url\u001b[49m\u001b[38;5;241;43m=\u001b[39;49m\u001b[43mscihub_url\u001b[49m\u001b[43m,\u001b[49m\n\u001b[1;32m     33\u001b[0m \u001b[43m        \u001b[49m\u001b[43mout\u001b[49m\u001b[38;5;241;43m=\u001b[39;49m\u001b[43mout\u001b[49m\n\u001b[1;32m     34\u001b[0m \u001b[43m    \u001b[49m\u001b[43m)\u001b[49m\u001b[38;5;241;43m.\u001b[39;49m\u001b[43mrun\u001b[49m\u001b[43m(\u001b[49m\u001b[43m)\u001b[49m\n",
      "File \u001b[0;32m~/.local/lib/python3.8/site-packages/scidownl/core/task.py:55\u001b[0m, in \u001b[0;36mScihubTask.run\u001b[0;34m(self)\u001b[0m\n\u001b[1;32m     53\u001b[0m \u001b[38;5;28;01mtry\u001b[39;00m:\n\u001b[1;32m     54\u001b[0m     logger\u001b[38;5;241m.\u001b[39minfo(\u001b[38;5;124mf\u001b[39m\u001b[38;5;124m\"\u001b[39m\u001b[38;5;124mChoose scihub url [\u001b[39m\u001b[38;5;132;01m{\u001b[39;00mi\u001b[38;5;132;01m}\u001b[39;00m\u001b[38;5;124m]: \u001b[39m\u001b[38;5;132;01m{\u001b[39;00mscihub_url\u001b[38;5;241m.\u001b[39murl\u001b[38;5;132;01m}\u001b[39;00m\u001b[38;5;124m\"\u001b[39m)\n\u001b[0;32m---> 55\u001b[0m     \u001b[38;5;28;01mreturn\u001b[39;00m \u001b[38;5;28;43mself\u001b[39;49m\u001b[38;5;241;43m.\u001b[39;49m\u001b[43m_run\u001b[49m\u001b[43m(\u001b[49m\u001b[43mscihub_url\u001b[49m\u001b[38;5;241;43m.\u001b[39;49m\u001b[43murl\u001b[49m\u001b[43m)\u001b[49m\n\u001b[1;32m     56\u001b[0m \u001b[38;5;28;01mexcept\u001b[39;00m \u001b[38;5;167;01mException\u001b[39;00m \u001b[38;5;28;01mas\u001b[39;00m e:\n\u001b[1;32m     57\u001b[0m     logger\u001b[38;5;241m.\u001b[39mwarning(\u001b[38;5;124mf\u001b[39m\u001b[38;5;124m\"\u001b[39m\u001b[38;5;124mError occurs, task status: \u001b[39m\u001b[38;5;132;01m{\u001b[39;00m\u001b[38;5;28mself\u001b[39m\u001b[38;5;241m.\u001b[39mcontext[\u001b[38;5;124m'\u001b[39m\u001b[38;5;124mstatus\u001b[39m\u001b[38;5;124m'\u001b[39m]\u001b[38;5;132;01m}\u001b[39;00m\u001b[38;5;124m, error: \u001b[39m\u001b[38;5;132;01m{\u001b[39;00m\u001b[38;5;28mself\u001b[39m\u001b[38;5;241m.\u001b[39mcontext[\u001b[38;5;124m'\u001b[39m\u001b[38;5;124merror\u001b[39m\u001b[38;5;124m'\u001b[39m]\u001b[38;5;132;01m}\u001b[39;00m\u001b[38;5;124m\"\u001b[39m)\n",
      "File \u001b[0;32m~/.local/lib/python3.8/site-packages/scidownl/core/task.py:83\u001b[0m, in \u001b[0;36mScihubTask._run\u001b[0;34m(self, scihub_url)\u001b[0m\n\u001b[1;32m     80\u001b[0m     out \u001b[38;5;241m=\u001b[39m os\u001b[38;5;241m.\u001b[39mpath\u001b[38;5;241m.\u001b[39mjoin(dirpath, filename)\n\u001b[1;32m     82\u001b[0m downloader \u001b[38;5;241m=\u001b[39m UrlDownloader(pdf_url_title_info, \u001b[38;5;28mself\u001b[39m)\n\u001b[0;32m---> 83\u001b[0m \u001b[43mdownloader\u001b[49m\u001b[38;5;241;43m.\u001b[39;49m\u001b[43mdownload\u001b[49m\u001b[43m(\u001b[49m\u001b[43mout\u001b[49m\u001b[43m)\u001b[49m\n\u001b[1;32m     84\u001b[0m scihub_url \u001b[38;5;241m=\u001b[39m \u001b[38;5;28mself\u001b[39m\u001b[38;5;241m.\u001b[39mcontext\u001b[38;5;241m.\u001b[39mget(\u001b[38;5;124m'\u001b[39m\u001b[38;5;124mreferer\u001b[39m\u001b[38;5;124m'\u001b[39m, \u001b[38;5;28;01mNone\u001b[39;00m)\n\u001b[1;32m     85\u001b[0m \u001b[38;5;28mself\u001b[39m\u001b[38;5;241m.\u001b[39mservice\u001b[38;5;241m.\u001b[39mincrement_success_times(scihub_url)\n",
      "File \u001b[0;32m~/.local/lib/python3.8/site-packages/scidownl/core/downloader.py:33\u001b[0m, in \u001b[0;36mUrlDownloader.download\u001b[0;34m(self, out)\u001b[0m\n\u001b[1;32m     31\u001b[0m \u001b[38;5;28;01mtry\u001b[39;00m:\n\u001b[1;32m     32\u001b[0m     url \u001b[38;5;241m=\u001b[39m \u001b[38;5;28mself\u001b[39m\u001b[38;5;241m.\u001b[39minformation\u001b[38;5;241m.\u001b[39mget_url()\n\u001b[0;32m---> 33\u001b[0m     filename \u001b[38;5;241m=\u001b[39m \u001b[43mwget\u001b[49m\u001b[38;5;241;43m.\u001b[39;49m\u001b[43mdownload\u001b[49m\u001b[43m(\u001b[49m\u001b[43murl\u001b[49m\u001b[43m,\u001b[49m\u001b[43m \u001b[49m\u001b[43mout\u001b[49m\u001b[43m)\u001b[49m\n\u001b[1;32m     34\u001b[0m     \u001b[38;5;28mprint\u001b[39m()\n\u001b[1;32m     35\u001b[0m     logger\u001b[38;5;241m.\u001b[39minfo(\u001b[38;5;124mf\u001b[39m\u001b[38;5;124m\"\u001b[39m\u001b[38;5;124m↓ Successfully download the url to: \u001b[39m\u001b[38;5;132;01m{\u001b[39;00mfilename\u001b[38;5;132;01m}\u001b[39;00m\u001b[38;5;124m\"\u001b[39m)\n",
      "File \u001b[0;32m~/.local/lib/python3.8/site-packages/wget.py:526\u001b[0m, in \u001b[0;36mdownload\u001b[0;34m(url, out, bar)\u001b[0m\n\u001b[1;32m    524\u001b[0m \u001b[38;5;28;01melse\u001b[39;00m:\n\u001b[1;32m    525\u001b[0m     binurl \u001b[38;5;241m=\u001b[39m url\n\u001b[0;32m--> 526\u001b[0m (tmpfile, headers) \u001b[38;5;241m=\u001b[39m \u001b[43mulib\u001b[49m\u001b[38;5;241;43m.\u001b[39;49m\u001b[43murlretrieve\u001b[49m\u001b[43m(\u001b[49m\u001b[43mbinurl\u001b[49m\u001b[43m,\u001b[49m\u001b[43m \u001b[49m\u001b[43mtmpfile\u001b[49m\u001b[43m,\u001b[49m\u001b[43m \u001b[49m\u001b[43mcallback\u001b[49m\u001b[43m)\u001b[49m\n\u001b[1;32m    527\u001b[0m filename \u001b[38;5;241m=\u001b[39m detect_filename(url, out, headers)\n\u001b[1;32m    528\u001b[0m \u001b[38;5;28;01mif\u001b[39;00m outdir:\n",
      "File \u001b[0;32m/usr/lib/python3.8/urllib/request.py:276\u001b[0m, in \u001b[0;36murlretrieve\u001b[0;34m(url, filename, reporthook, data)\u001b[0m\n\u001b[1;32m    273\u001b[0m     reporthook(blocknum, bs, size)\n\u001b[1;32m    275\u001b[0m \u001b[38;5;28;01mwhile\u001b[39;00m \u001b[38;5;28;01mTrue\u001b[39;00m:\n\u001b[0;32m--> 276\u001b[0m     block \u001b[38;5;241m=\u001b[39m \u001b[43mfp\u001b[49m\u001b[38;5;241;43m.\u001b[39;49m\u001b[43mread\u001b[49m\u001b[43m(\u001b[49m\u001b[43mbs\u001b[49m\u001b[43m)\u001b[49m\n\u001b[1;32m    277\u001b[0m     \u001b[38;5;28;01mif\u001b[39;00m \u001b[38;5;129;01mnot\u001b[39;00m block:\n\u001b[1;32m    278\u001b[0m         \u001b[38;5;28;01mbreak\u001b[39;00m\n",
      "File \u001b[0;32m/usr/lib/python3.8/http/client.py:459\u001b[0m, in \u001b[0;36mHTTPResponse.read\u001b[0;34m(self, amt)\u001b[0m\n\u001b[1;32m    456\u001b[0m \u001b[38;5;28;01mif\u001b[39;00m amt \u001b[38;5;129;01mis\u001b[39;00m \u001b[38;5;129;01mnot\u001b[39;00m \u001b[38;5;28;01mNone\u001b[39;00m:\n\u001b[1;32m    457\u001b[0m     \u001b[38;5;66;03m# Amount is given, implement using readinto\u001b[39;00m\n\u001b[1;32m    458\u001b[0m     b \u001b[38;5;241m=\u001b[39m \u001b[38;5;28mbytearray\u001b[39m(amt)\n\u001b[0;32m--> 459\u001b[0m     n \u001b[38;5;241m=\u001b[39m \u001b[38;5;28;43mself\u001b[39;49m\u001b[38;5;241;43m.\u001b[39;49m\u001b[43mreadinto\u001b[49m\u001b[43m(\u001b[49m\u001b[43mb\u001b[49m\u001b[43m)\u001b[49m\n\u001b[1;32m    460\u001b[0m     \u001b[38;5;28;01mreturn\u001b[39;00m \u001b[38;5;28mmemoryview\u001b[39m(b)[:n]\u001b[38;5;241m.\u001b[39mtobytes()\n\u001b[1;32m    461\u001b[0m \u001b[38;5;28;01melse\u001b[39;00m:\n\u001b[1;32m    462\u001b[0m     \u001b[38;5;66;03m# Amount is not given (unbounded read) so we must check self.length\u001b[39;00m\n\u001b[1;32m    463\u001b[0m     \u001b[38;5;66;03m# and self.chunked\u001b[39;00m\n",
      "File \u001b[0;32m/usr/lib/python3.8/http/client.py:503\u001b[0m, in \u001b[0;36mHTTPResponse.readinto\u001b[0;34m(self, b)\u001b[0m\n\u001b[1;32m    498\u001b[0m         b \u001b[38;5;241m=\u001b[39m \u001b[38;5;28mmemoryview\u001b[39m(b)[\u001b[38;5;241m0\u001b[39m:\u001b[38;5;28mself\u001b[39m\u001b[38;5;241m.\u001b[39mlength]\n\u001b[1;32m    500\u001b[0m \u001b[38;5;66;03m# we do not use _safe_read() here because this may be a .will_close\u001b[39;00m\n\u001b[1;32m    501\u001b[0m \u001b[38;5;66;03m# connection, and the user is reading more bytes than will be provided\u001b[39;00m\n\u001b[1;32m    502\u001b[0m \u001b[38;5;66;03m# (for example, reading in 1k chunks)\u001b[39;00m\n\u001b[0;32m--> 503\u001b[0m n \u001b[38;5;241m=\u001b[39m \u001b[38;5;28;43mself\u001b[39;49m\u001b[38;5;241;43m.\u001b[39;49m\u001b[43mfp\u001b[49m\u001b[38;5;241;43m.\u001b[39;49m\u001b[43mreadinto\u001b[49m\u001b[43m(\u001b[49m\u001b[43mb\u001b[49m\u001b[43m)\u001b[49m\n\u001b[1;32m    504\u001b[0m \u001b[38;5;28;01mif\u001b[39;00m \u001b[38;5;129;01mnot\u001b[39;00m n \u001b[38;5;129;01mand\u001b[39;00m b:\n\u001b[1;32m    505\u001b[0m     \u001b[38;5;66;03m# Ideally, we would raise IncompleteRead if the content-length\u001b[39;00m\n\u001b[1;32m    506\u001b[0m     \u001b[38;5;66;03m# wasn't satisfied, but it might break compatibility.\u001b[39;00m\n\u001b[1;32m    507\u001b[0m     \u001b[38;5;28mself\u001b[39m\u001b[38;5;241m.\u001b[39m_close_conn()\n",
      "File \u001b[0;32m/usr/lib/python3.8/socket.py:669\u001b[0m, in \u001b[0;36mSocketIO.readinto\u001b[0;34m(self, b)\u001b[0m\n\u001b[1;32m    667\u001b[0m \u001b[38;5;28;01mwhile\u001b[39;00m \u001b[38;5;28;01mTrue\u001b[39;00m:\n\u001b[1;32m    668\u001b[0m     \u001b[38;5;28;01mtry\u001b[39;00m:\n\u001b[0;32m--> 669\u001b[0m         \u001b[38;5;28;01mreturn\u001b[39;00m \u001b[38;5;28;43mself\u001b[39;49m\u001b[38;5;241;43m.\u001b[39;49m\u001b[43m_sock\u001b[49m\u001b[38;5;241;43m.\u001b[39;49m\u001b[43mrecv_into\u001b[49m\u001b[43m(\u001b[49m\u001b[43mb\u001b[49m\u001b[43m)\u001b[49m\n\u001b[1;32m    670\u001b[0m     \u001b[38;5;28;01mexcept\u001b[39;00m timeout:\n\u001b[1;32m    671\u001b[0m         \u001b[38;5;28mself\u001b[39m\u001b[38;5;241m.\u001b[39m_timeout_occurred \u001b[38;5;241m=\u001b[39m \u001b[38;5;28;01mTrue\u001b[39;00m\n",
      "File \u001b[0;32m/usr/lib/python3.8/ssl.py:1241\u001b[0m, in \u001b[0;36mSSLSocket.recv_into\u001b[0;34m(self, buffer, nbytes, flags)\u001b[0m\n\u001b[1;32m   1237\u001b[0m     \u001b[38;5;28;01mif\u001b[39;00m flags \u001b[38;5;241m!=\u001b[39m \u001b[38;5;241m0\u001b[39m:\n\u001b[1;32m   1238\u001b[0m         \u001b[38;5;28;01mraise\u001b[39;00m \u001b[38;5;167;01mValueError\u001b[39;00m(\n\u001b[1;32m   1239\u001b[0m           \u001b[38;5;124m\"\u001b[39m\u001b[38;5;124mnon-zero flags not allowed in calls to recv_into() on \u001b[39m\u001b[38;5;132;01m%s\u001b[39;00m\u001b[38;5;124m\"\u001b[39m \u001b[38;5;241m%\u001b[39m\n\u001b[1;32m   1240\u001b[0m           \u001b[38;5;28mself\u001b[39m\u001b[38;5;241m.\u001b[39m\u001b[38;5;18m__class__\u001b[39m)\n\u001b[0;32m-> 1241\u001b[0m     \u001b[38;5;28;01mreturn\u001b[39;00m \u001b[38;5;28;43mself\u001b[39;49m\u001b[38;5;241;43m.\u001b[39;49m\u001b[43mread\u001b[49m\u001b[43m(\u001b[49m\u001b[43mnbytes\u001b[49m\u001b[43m,\u001b[49m\u001b[43m \u001b[49m\u001b[43mbuffer\u001b[49m\u001b[43m)\u001b[49m\n\u001b[1;32m   1242\u001b[0m \u001b[38;5;28;01melse\u001b[39;00m:\n\u001b[1;32m   1243\u001b[0m     \u001b[38;5;28;01mreturn\u001b[39;00m \u001b[38;5;28msuper\u001b[39m()\u001b[38;5;241m.\u001b[39mrecv_into(buffer, nbytes, flags)\n",
      "File \u001b[0;32m/usr/lib/python3.8/ssl.py:1099\u001b[0m, in \u001b[0;36mSSLSocket.read\u001b[0;34m(self, len, buffer)\u001b[0m\n\u001b[1;32m   1097\u001b[0m \u001b[38;5;28;01mtry\u001b[39;00m:\n\u001b[1;32m   1098\u001b[0m     \u001b[38;5;28;01mif\u001b[39;00m buffer \u001b[38;5;129;01mis\u001b[39;00m \u001b[38;5;129;01mnot\u001b[39;00m \u001b[38;5;28;01mNone\u001b[39;00m:\n\u001b[0;32m-> 1099\u001b[0m         \u001b[38;5;28;01mreturn\u001b[39;00m \u001b[38;5;28;43mself\u001b[39;49m\u001b[38;5;241;43m.\u001b[39;49m\u001b[43m_sslobj\u001b[49m\u001b[38;5;241;43m.\u001b[39;49m\u001b[43mread\u001b[49m\u001b[43m(\u001b[49m\u001b[38;5;28;43mlen\u001b[39;49m\u001b[43m,\u001b[49m\u001b[43m \u001b[49m\u001b[43mbuffer\u001b[49m\u001b[43m)\u001b[49m\n\u001b[1;32m   1100\u001b[0m     \u001b[38;5;28;01melse\u001b[39;00m:\n\u001b[1;32m   1101\u001b[0m         \u001b[38;5;28;01mreturn\u001b[39;00m \u001b[38;5;28mself\u001b[39m\u001b[38;5;241m.\u001b[39m_sslobj\u001b[38;5;241m.\u001b[39mread(\u001b[38;5;28mlen\u001b[39m)\n",
      "\u001b[0;31mKeyboardInterrupt\u001b[0m: "
     ]
    }
   ],
   "source": [
    "folder = os.listdir('test/test_doi')\n",
    "#folder.remove('.ipynb_checkpoints')\n",
    "#folder.remove('__pycache__')\n",
    "x = 0\n",
    "y = 0\n",
    "for file in folder:\n",
    "    \n",
    "    edited_name = file\n",
    "    edited_name = edited_name.replace('.txt','')\n",
    "    #edited_name = edited_name.replace('Modern Language Notes_','')\n",
    "    newpath = edited_name\n",
    "    if os.path.exists('test/' + newpath):\n",
    "        continue\n",
    "    if not os.path.exists('test/' + newpath):\n",
    "        os.makedirs('test/' + newpath)\n",
    "        \n",
    "    doi = open('test/test_doi/' + file, 'r')\n",
    "    lines = doi.read()\n",
    "    doi_list = lines.splitlines()\n",
    "    doi.close()\n",
    "    i = 0\n",
    "    for doi in doi_list:\n",
    "        paper = (\"https://doi.org/\" + doi)\n",
    "        paper_type = \"doi\"\n",
    "        out = (\"test/\"+ newpath + '/article' + str(i))\n",
    "        scihub_download(paper, paper_type=paper_type, out=out)\n",
    "        i+=1\n",
    "        x+=1\n",
    "        if x == 500:\n",
    "            x = 0\n",
    "            time.sleep(3600)"
   ]
  },
  {
   "cell_type": "code",
   "execution_count": null,
   "id": "432c6023-60ce-4a83-975e-181130483260",
   "metadata": {},
   "outputs": [],
   "source": []
  }
 ],
 "metadata": {
  "kernelspec": {
   "display_name": "Python 3 (ipykernel)",
   "language": "python",
   "name": "python3"
  },
  "language_info": {
   "codemirror_mode": {
    "name": "ipython",
    "version": 3
   },
   "file_extension": ".py",
   "mimetype": "text/x-python",
   "name": "python",
   "nbconvert_exporter": "python",
   "pygments_lexer": "ipython3",
   "version": "3.8.10"
  }
 },
 "nbformat": 4,
 "nbformat_minor": 5
}
