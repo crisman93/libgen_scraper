{
 "cells": [
  {
   "cell_type": "code",
   "execution_count": 8,
   "metadata": {},
   "outputs": [
    {
     "name": "stdout",
     "output_type": "stream",
     "text": [
      "1949 is done\n",
      "1950 is done\n",
      "1951 is done\n",
      "1952 is done\n",
      "1953 is done\n",
      "1954 is done\n",
      "1955 is done\n",
      "1956 is done\n",
      "1957 is done\n",
      "1958 is done\n",
      "1959 is done\n",
      "1960 is done\n",
      "1961 is done\n",
      "1962 is done\n",
      "1963 is done\n",
      "1964 is done\n",
      "1965 is done\n",
      "1966 is done\n",
      "1967 is done\n",
      "1968 is done\n",
      "1969 is done\n",
      "1970 is done\n",
      "1971 is done\n",
      "1972 is done\n",
      "1973 is done\n",
      "1974 is done\n",
      "1975 is done\n",
      "1976 is done\n",
      "1977 is done\n",
      "1978 is done\n",
      "1979 is done\n",
      "1980 is done\n",
      "1981 is done\n",
      "1982 is done\n",
      "1983 is done\n",
      "1984 is done\n",
      "1985 is done\n",
      "1986 is done\n",
      "1987 is done\n",
      "1988 is done\n",
      "1989 is done\n",
      "1990 is done\n",
      "1991 is done\n",
      "1992 is done\n",
      "1993 is done\n",
      "1994 is done\n",
      "1995 is done\n",
      "1996 is done\n",
      "1997 is done\n",
      "1998 is done\n",
      "1999 is done\n"
     ]
    }
   ],
   "source": [
    "from bs4 import BeautifulSoup\n",
    "import re\n",
    "import requests\n",
    "\n",
    "#journals: ['17551', ]\n",
    "\n",
    "for year in range (1949, 2017):\n",
    "    l = []\n",
    "    for page in range(1,6):\n",
    "        response = requests.get(f\"https://libgen.is/scimag/?journal=4811&year={year}&page={page}\")\n",
    "        soup = BeautifulSoup(response.text, 'lxml')\n",
    "        # regex pattern for the tel nr\n",
    "        doi_1 = re.compile(r'(10[.][0-9]{4,}[^\\s\"\\/<>]*\\/[^\\s\"<>]+)')\n",
    "        for s in soup.find_all(string=doi_1):\n",
    "            #print(doi_1.search(s).group())   # print the match\n",
    "            b = doi_1.search(s).group()\n",
    "            l.append(str(b))\n",
    "    with open (f\"comparative_literature/comparative-literature_{year}.txt\", 'w') as fo:\n",
    "        doi = 'DOI:'\n",
    "        for d in l:\n",
    "            fo.write(str(d) + '\\n')\n",
    "    print(f'{year} is done')\n"
   ]
  },
  {
   "cell_type": "code",
   "execution_count": null,
   "metadata": {},
   "outputs": [],
   "source": []
  },
  {
   "cell_type": "code",
   "execution_count": 6,
   "metadata": {},
   "outputs": [
    {
     "ename": "FileNotFoundError",
     "evalue": "[Errno 2] No such file or directory: 'C:\\\\Users\\\\modyj\\\\OneDrive\\\\Desktop\\\\ncri\\\\comparative_literature\\\\comparative-literature_1949.txt\\\\w'",
     "output_type": "error",
     "traceback": [
      "\u001b[1;31m---------------------------------------------------------------------------\u001b[0m",
      "\u001b[1;31mFileNotFoundError\u001b[0m                         Traceback (most recent call last)",
      "\u001b[1;32mc:\\Users\\modyj\\OneDrive\\Desktop\\ncri\\journalcollect.ipynb Cell 2'\u001b[0m in \u001b[0;36m<module>\u001b[1;34m\u001b[0m\n\u001b[0;32m      <a href='vscode-notebook-cell:/c%3A/Users/modyj/OneDrive/Desktop/ncri/journalcollect.ipynb#ch0000003?line=2'>3</a>\u001b[0m DOI \u001b[39m=\u001b[39m \u001b[39m'\u001b[39m\u001b[39mDOI\u001b[39m\u001b[39m'\u001b[39m\n\u001b[0;32m      <a href='vscode-notebook-cell:/c%3A/Users/modyj/OneDrive/Desktop/ncri/journalcollect.ipynb#ch0000003?line=4'>5</a>\u001b[0m \u001b[39mfor\u001b[39;00m filename \u001b[39min\u001b[39;00m os\u001b[39m.\u001b[39mlistdir(\u001b[39mr\u001b[39m\u001b[39m'\u001b[39m\u001b[39mC:\u001b[39m\u001b[39m\\\u001b[39m\u001b[39mUsers\u001b[39m\u001b[39m\\\u001b[39m\u001b[39mmodyj\u001b[39m\u001b[39m\\\u001b[39m\u001b[39mOneDrive\u001b[39m\u001b[39m\\\u001b[39m\u001b[39mDesktop\u001b[39m\u001b[39m\\\u001b[39m\u001b[39mncri\u001b[39m\u001b[39m\\\u001b[39m\u001b[39mcomparative_literature\u001b[39m\u001b[39m'\u001b[39m):\n\u001b[1;32m----> <a href='vscode-notebook-cell:/c%3A/Users/modyj/OneDrive/Desktop/ncri/journalcollect.ipynb#ch0000003?line=5'>6</a>\u001b[0m         \u001b[39mwith\u001b[39;00m \u001b[39mopen\u001b[39;49m(os\u001b[39m.\u001b[39;49mpath\u001b[39m.\u001b[39;49mjoin(\u001b[39mr\u001b[39;49m\u001b[39m'\u001b[39;49m\u001b[39mC:\u001b[39;49m\u001b[39m\\\u001b[39;49m\u001b[39mUsers\u001b[39;49m\u001b[39m\\\u001b[39;49m\u001b[39mmodyj\u001b[39;49m\u001b[39m\\\u001b[39;49m\u001b[39mOneDrive\u001b[39;49m\u001b[39m\\\u001b[39;49m\u001b[39mDesktop\u001b[39;49m\u001b[39m\\\u001b[39;49m\u001b[39mncri\u001b[39;49m\u001b[39m\\\u001b[39;49m\u001b[39mcomparative_literature\u001b[39;49m\u001b[39m'\u001b[39;49m, filename, \u001b[39m'\u001b[39;49m\u001b[39mw\u001b[39;49m\u001b[39m'\u001b[39;49m)) \u001b[39mas\u001b[39;00m f:\n\u001b[0;32m      <a href='vscode-notebook-cell:/c%3A/Users/modyj/OneDrive/Desktop/ncri/journalcollect.ipynb#ch0000003?line=6'>7</a>\u001b[0m             lines \u001b[39m=\u001b[39m f\u001b[39m.\u001b[39mreadlines()\n\u001b[0;32m      <a href='vscode-notebook-cell:/c%3A/Users/modyj/OneDrive/Desktop/ncri/journalcollect.ipynb#ch0000003?line=7'>8</a>\u001b[0m             \u001b[39mfor\u001b[39;00m line \u001b[39min\u001b[39;00m lines:\n",
      "\u001b[1;31mFileNotFoundError\u001b[0m: [Errno 2] No such file or directory: 'C:\\\\Users\\\\modyj\\\\OneDrive\\\\Desktop\\\\ncri\\\\comparative_literature\\\\comparative-literature_1949.txt\\\\w'"
     ]
    }
   ],
   "source": [
    "import os\n",
    "\n",
    "DOI = 'DOI'\n",
    "\n",
    "for filename in os.listdir(r'C:\\Users\\modyj\\OneDrive\\Desktop\\ncri\\comparative_literature'):\n",
    "        with open(os.path.join(r'C:\\Users\\modyj\\OneDrive\\Desktop\\ncri\\comparative_literature', filename, 'w')) as f:\n",
    "            lines = f.readlines()\n",
    "            for line in lines:\n",
    "                if line != None and doi in line:\n",
    "                    line = line.replace('DOI:', '')       \n",
    "                    f.write(line)\n",
    "                    #f.write('\\n')\n",
    "                    print(line)"
   ]
  },
  {
   "cell_type": "code",
   "execution_count": null,
   "metadata": {},
   "outputs": [
    {
     "ename": "IndexError",
     "evalue": "no such group",
     "output_type": "error",
     "traceback": [
      "\u001b[1;31m---------------------------------------------------------------------------\u001b[0m",
      "\u001b[1;31mIndexError\u001b[0m                                Traceback (most recent call last)",
      "\u001b[1;32m~\\AppData\\Local\\Temp/ipykernel_16776/2319311317.py\u001b[0m in \u001b[0;36m<module>\u001b[1;34m\u001b[0m\n\u001b[0;32m      4\u001b[0m \u001b[0mresponse\u001b[0m \u001b[1;33m=\u001b[0m \u001b[0mrequests\u001b[0m\u001b[1;33m.\u001b[0m\u001b[0mget\u001b[0m\u001b[1;33m(\u001b[0m\u001b[1;34m'https://libgen.is/scimag/?journal=17551&year=1930&page=3'\u001b[0m\u001b[1;33m)\u001b[0m\u001b[1;33m\u001b[0m\u001b[1;33m\u001b[0m\u001b[0m\n\u001b[0;32m      5\u001b[0m \u001b[1;33m\u001b[0m\u001b[0m\n\u001b[1;32m----> 6\u001b[1;33m \u001b[0mre\u001b[0m\u001b[1;33m.\u001b[0m\u001b[0msearch\u001b[0m\u001b[1;33m(\u001b[0m\u001b[1;34mr'<p>DOI:'\u001b[0m\u001b[1;33m,\u001b[0m\u001b[0mresponse\u001b[0m\u001b[1;33m.\u001b[0m\u001b[0mtext\u001b[0m\u001b[1;33m)\u001b[0m\u001b[1;33m.\u001b[0m\u001b[0mgroup\u001b[0m\u001b[1;33m(\u001b[0m\u001b[1;36m1\u001b[0m\u001b[1;33m)\u001b[0m\u001b[1;33m\u001b[0m\u001b[1;33m\u001b[0m\u001b[0m\n\u001b[0m",
      "\u001b[1;31mIndexError\u001b[0m: no such group"
     ]
    }
   ],
   "source": [
    "import re\n",
    "\n",
    "\n",
    "\n",
    "re.search(r'<p>DOI:',response.text).group(1)"
   ]
  },
  {
   "cell_type": "code",
   "execution_count": null,
   "metadata": {},
   "outputs": [
    {
     "name": "stdout",
     "output_type": "stream",
     "text": [
      "None\n"
     ]
    }
   ],
   "source": [
    "import re\n",
    "from bs4 import BeautifulSoup\n",
    "import requests\n",
    "\n",
    "response = requests.get('https://libgen.is/scimag/?journal=17551&year=1930&page=3')\n",
    "\n",
    "x = re.search(r\"DOI: <strong>(?P<pass>\\w+)</strong>\", response.text)\n",
    "print(x)"
   ]
  }
 ],
 "metadata": {
  "kernelspec": {
   "display_name": "Python 3.9.13 64-bit (windows store)",
   "language": "python",
   "name": "python3"
  },
  "language_info": {
   "codemirror_mode": {
    "name": "ipython",
    "version": 3
   },
   "file_extension": ".py",
   "mimetype": "text/x-python",
   "name": "python",
   "nbconvert_exporter": "python",
   "pygments_lexer": "ipython3",
   "version": "3.9.13"
  },
  "orig_nbformat": 4,
  "vscode": {
   "interpreter": {
    "hash": "6c978f2ffe07aa508dfa042e3847f455f0442fa1b11c77ba0bfbd5c52b24bf7d"
   }
  }
 },
 "nbformat": 4,
 "nbformat_minor": 2
}
